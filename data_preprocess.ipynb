{
 "cells": [
  {
   "cell_type": "code",
   "execution_count": 5,
   "id": "3c5521dd-6d7a-4ea8-a433-78254fe121a8",
   "metadata": {},
   "outputs": [],
   "source": [
    "import pandas as pd"
   ]
  },
  {
   "cell_type": "code",
   "execution_count": 6,
   "id": "4b40cc53-4329-43bb-9afc-f01acd6f2ef7",
   "metadata": {},
   "outputs": [],
   "source": [
    "ratings_df = pd.read_csv('ratings.csv', encoding='unicode_escape', sep=';')"
   ]
  },
  {
   "cell_type": "code",
   "execution_count": 7,
   "id": "58b00fed-40c1-44e9-a1db-1cc35836b06e",
   "metadata": {},
   "outputs": [
    {
     "name": "stdout",
     "output_type": "stream",
     "text": [
      "['2002' '2001' '1991' '1999' '2000' '1993' '1996' '1988' '2004' '1998'\n",
      " '1994' '2003' '1997' '1983' '1979' '1995' '1982' '1985' '1992' '1986'\n",
      " '1978' '1980' '1952' '1987' '1990' '1981' '1989' '1984' '0' '1968' '1961'\n",
      " '1958' '1974' '1976' '1971' '1977' '1975' '1965' '1941' '1970' '1962'\n",
      " '1973' '1972' '1960' '1966' '1920' '1956' '1959' '1953' '1951' '1942'\n",
      " '1963' '1964' '1969' '1954' '1950' '1967' '2005' '1957' '1940' '1937'\n",
      " '1955' '1946' '1936' '1930' '2011' '1925' '1948' '1943' '1947' '1945'\n",
      " '1923' '2020' '1939' '1926' '1938' '2030' '1911' '1904' '1949' '1932'\n",
      " '1928' '1929' '1927' '1931' '1914' '2050' '1934' '1910' '1933' '1902'\n",
      " '1924' '1921' '1900' 'Canterbury Press' '2038' '2026' '1944' '1917'\n",
      " '1901' '2010' '1908' '1906' '1935' '1806' '2021' '2012' '2006'\n",
      " 'DK Publishing Inc' 'Gallimard' '1909' '2008' '1378' '1919' '1922' '1897'\n",
      " '2024' '1376' '2037']\n"
     ]
    }
   ],
   "source": [
    "# Load the books.csv file with low_memory=False and dtype specification\n",
    "books_df = pd.read_csv('books.csv', delimiter=';', encoding='unicode_escape', on_bad_lines='skip', low_memory=False)\n",
    "\n",
    "# Check if there are any non-numeric values in 'Year-Of-Publication'\n",
    "print(books_df['Year-Of-Publication'].unique())\n"
   ]
  },
  {
   "cell_type": "code",
   "execution_count": 8,
   "id": "73af9714-2c13-4954-9023-c82a3c41a0ca",
   "metadata": {},
   "outputs": [],
   "source": [
    "users_df = pd.read_csv('users.csv',encoding='unicode_escape',sep=';')"
   ]
  },
  {
   "cell_type": "code",
   "execution_count": 9,
   "id": "b0508ab1-8c06-4894-a007-e135ab68da01",
   "metadata": {},
   "outputs": [
    {
     "name": "stdout",
     "output_type": "stream",
     "text": [
      "   User-ID        ISBN  Book-Rating\n",
      "0   276725  034545104X            0\n",
      "1   276726  0155061224            5\n",
      "2   276727  0446520802            0\n",
      "3   276729  052165615X            3\n",
      "4   276729  0521795028            6\n",
      "   User-ID                            Location   Age\n",
      "0        1                  nyc, new york, usa   NaN\n",
      "1        2           stockton, california, usa  18.0\n",
      "2        3     moscow, yukon territory, russia   NaN\n",
      "3        4           porto, v.n.gaia, portugal  17.0\n",
      "4        5  farnborough, hants, united kingdom   NaN\n",
      "         ISBN                                         Book-Title  \\\n",
      "0  0195153448                                Classical Mythology   \n",
      "1  0002005018                                       Clara Callan   \n",
      "2  0060973129                               Decision in Normandy   \n",
      "3  0374157065  Flu: The Story of the Great Influenza Pandemic...   \n",
      "4  0393045218                             The Mummies of Urumchi   \n",
      "\n",
      "            Book-Author Year-Of-Publication                   Publisher  \\\n",
      "0    Mark P. O. Morford                2002     Oxford University Press   \n",
      "1  Richard Bruce Wright                2001       HarperFlamingo Canada   \n",
      "2          Carlo D'Este                1991             HarperPerennial   \n",
      "3      Gina Bari Kolata                1999        Farrar Straus Giroux   \n",
      "4       E. J. W. Barber                1999  W. W. Norton &amp; Company   \n",
      "\n",
      "                                         Image-URL-S  \\\n",
      "0  http://images.amazon.com/images/P/0195153448.0...   \n",
      "1  http://images.amazon.com/images/P/0002005018.0...   \n",
      "2  http://images.amazon.com/images/P/0060973129.0...   \n",
      "3  http://images.amazon.com/images/P/0374157065.0...   \n",
      "4  http://images.amazon.com/images/P/0393045218.0...   \n",
      "\n",
      "                                         Image-URL-M  \\\n",
      "0  http://images.amazon.com/images/P/0195153448.0...   \n",
      "1  http://images.amazon.com/images/P/0002005018.0...   \n",
      "2  http://images.amazon.com/images/P/0060973129.0...   \n",
      "3  http://images.amazon.com/images/P/0374157065.0...   \n",
      "4  http://images.amazon.com/images/P/0393045218.0...   \n",
      "\n",
      "                                         Image-URL-L  \n",
      "0  http://images.amazon.com/images/P/0195153448.0...  \n",
      "1  http://images.amazon.com/images/P/0002005018.0...  \n",
      "2  http://images.amazon.com/images/P/0060973129.0...  \n",
      "3  http://images.amazon.com/images/P/0374157065.0...  \n",
      "4  http://images.amazon.com/images/P/0393045218.0...  \n"
     ]
    }
   ],
   "source": [
    "print(ratings_df.head())\n",
    "print(users_df.head())\n",
    "print(books_df.head())\n"
   ]
  },
  {
   "cell_type": "code",
   "execution_count": 10,
   "id": "cfe2f95c-5698-4176-b139-1156ae988d37",
   "metadata": {},
   "outputs": [],
   "source": [
    "# Rename columns to be consistent\n",
    "ratings_df.rename(columns={'User-ID': 'user_id', 'ISBN': 'book_id', 'Book-Rating': 'rating'}, inplace=True)\n",
    "users_df.rename(columns={'User-ID': 'user_id'}, inplace=True)\n",
    "books_df.rename(columns={'ISBN': 'book_id'}, inplace=True)\n"
   ]
  },
  {
   "cell_type": "code",
   "execution_count": 11,
   "id": "50516b3f-b200-4be8-9390-f7250d0aeedc",
   "metadata": {},
   "outputs": [
    {
     "data": {
      "text/plain": [
       "(1149780, 3)"
      ]
     },
     "execution_count": 11,
     "metadata": {},
     "output_type": "execute_result"
    }
   ],
   "source": [
    "ratings_df.shape"
   ]
  },
  {
   "cell_type": "code",
   "execution_count": 12,
   "id": "335877c0-7401-4ef7-87e2-08527e202ad8",
   "metadata": {},
   "outputs": [
    {
     "data": {
      "text/plain": [
       "(278858, 3)"
      ]
     },
     "execution_count": 12,
     "metadata": {},
     "output_type": "execute_result"
    }
   ],
   "source": [
    "users_df.shape"
   ]
  },
  {
   "cell_type": "code",
   "execution_count": 13,
   "id": "db9bcc34-9f1e-4d36-9407-fad75c173fa6",
   "metadata": {},
   "outputs": [
    {
     "data": {
      "text/plain": [
       "(271360, 8)"
      ]
     },
     "execution_count": 13,
     "metadata": {},
     "output_type": "execute_result"
    }
   ],
   "source": [
    "books_df.shape"
   ]
  },
  {
   "cell_type": "code",
   "execution_count": 14,
   "id": "de52222f-d523-4b06-a490-d5d08db3beb2",
   "metadata": {},
   "outputs": [
    {
     "name": "stdout",
     "output_type": "stream",
     "text": [
      "<class 'pandas.core.frame.DataFrame'>\n",
      "RangeIndex: 1149780 entries, 0 to 1149779\n",
      "Data columns (total 3 columns):\n",
      " #   Column   Non-Null Count    Dtype \n",
      "---  ------   --------------    ----- \n",
      " 0   user_id  1149780 non-null  int64 \n",
      " 1   book_id  1149780 non-null  object\n",
      " 2   rating   1149780 non-null  int64 \n",
      "dtypes: int64(2), object(1)\n",
      "memory usage: 26.3+ MB\n",
      "<class 'pandas.core.frame.DataFrame'>\n",
      "RangeIndex: 271360 entries, 0 to 271359\n",
      "Data columns (total 8 columns):\n",
      " #   Column               Non-Null Count   Dtype \n",
      "---  ------               --------------   ----- \n",
      " 0   book_id              271360 non-null  object\n",
      " 1   Book-Title           271360 non-null  object\n",
      " 2   Book-Author          271358 non-null  object\n",
      " 3   Year-Of-Publication  271360 non-null  object\n",
      " 4   Publisher            271358 non-null  object\n",
      " 5   Image-URL-S          271360 non-null  object\n",
      " 6   Image-URL-M          271360 non-null  object\n",
      " 7   Image-URL-L          271356 non-null  object\n",
      "dtypes: object(8)\n",
      "memory usage: 16.6+ MB\n",
      "<class 'pandas.core.frame.DataFrame'>\n",
      "RangeIndex: 278858 entries, 0 to 278857\n",
      "Data columns (total 3 columns):\n",
      " #   Column    Non-Null Count   Dtype  \n",
      "---  ------    --------------   -----  \n",
      " 0   user_id   278858 non-null  int64  \n",
      " 1   Location  278858 non-null  object \n",
      " 2   Age       168096 non-null  float64\n",
      "dtypes: float64(1), int64(1), object(1)\n",
      "memory usage: 6.4+ MB\n"
     ]
    }
   ],
   "source": [
    "ratings_df.info()\n",
    "books_df.info()\n",
    "users_df.info()"
   ]
  },
  {
   "cell_type": "code",
   "execution_count": 15,
   "id": "e86f1227-5ad7-4247-b988-804c3c9d1981",
   "metadata": {},
   "outputs": [
    {
     "data": {
      "text/plain": [
       "Index(['user_id', 'book_id', 'rating'], dtype='object')"
      ]
     },
     "execution_count": 15,
     "metadata": {},
     "output_type": "execute_result"
    }
   ],
   "source": [
    "ratings_df.columns"
   ]
  },
  {
   "cell_type": "code",
   "execution_count": 16,
   "id": "a1d41e68-436c-41ef-aa1d-9992f2f5b374",
   "metadata": {},
   "outputs": [
    {
     "data": {
      "text/plain": [
       "Index(['user_id', 'Location', 'Age'], dtype='object')"
      ]
     },
     "execution_count": 16,
     "metadata": {},
     "output_type": "execute_result"
    }
   ],
   "source": [
    "users_df.columns"
   ]
  },
  {
   "cell_type": "code",
   "execution_count": 17,
   "id": "18a405f6-cd73-46fa-bdc6-f04dba52fdf2",
   "metadata": {},
   "outputs": [
    {
     "name": "stdout",
     "output_type": "stream",
     "text": [
      "Index(['book_id', 'Book-Title', 'Book-Author', 'Year-Of-Publication',\n",
      "       'Publisher', 'Image-URL-S', 'Image-URL-M', 'Image-URL-L'],\n",
      "      dtype='object')\n"
     ]
    }
   ],
   "source": [
    "# Clean column names by removing quotes and semicolons\n",
    "books_df.columns = books_df.columns.str.replace(';', '').str.replace('\"', '').str.strip()\n",
    "\n",
    "# Check cleaned column names\n",
    "print(books_df.columns)\n"
   ]
  },
  {
   "cell_type": "code",
   "execution_count": 18,
   "id": "082c5da9-8d8a-4850-b90f-6d9f5b35a504",
   "metadata": {},
   "outputs": [
    {
     "name": "stdout",
     "output_type": "stream",
     "text": [
      "Index(['book_id', 'Book-Title', 'Book-Author', 'Year-Of-Publication',\n",
      "       'Publisher', 'Image-URL-S', 'Image-URL-M', 'Image-URL-L'],\n",
      "      dtype='object')\n"
     ]
    }
   ],
   "source": [
    "# Now rename the 'ISBN' column to 'book_id'\n",
    "books_df.rename(columns={'ISBN': 'book_id'}, inplace=True)\n",
    "\n",
    "# Verify if the renaming has taken place\n",
    "print(books_df.columns)\n"
   ]
  },
  {
   "cell_type": "code",
   "execution_count": 19,
   "id": "1526f59d-31fb-4c8d-8085-c7bfa7a431b7",
   "metadata": {},
   "outputs": [
    {
     "data": {
      "text/plain": [
       "user_id    0\n",
       "book_id    0\n",
       "rating     0\n",
       "dtype: int64"
      ]
     },
     "execution_count": 19,
     "metadata": {},
     "output_type": "execute_result"
    }
   ],
   "source": [
    "pd.isnull(ratings_df).sum()"
   ]
  },
  {
   "cell_type": "code",
   "execution_count": 20,
   "id": "4f03aad7-9593-4561-9084-3148dc297a5f",
   "metadata": {},
   "outputs": [
    {
     "data": {
      "text/plain": [
       "book_id                0\n",
       "Book-Title             0\n",
       "Book-Author            2\n",
       "Year-Of-Publication    0\n",
       "Publisher              2\n",
       "Image-URL-S            0\n",
       "Image-URL-M            0\n",
       "Image-URL-L            4\n",
       "dtype: int64"
      ]
     },
     "execution_count": 20,
     "metadata": {},
     "output_type": "execute_result"
    }
   ],
   "source": [
    "pd.isnull(books_df).sum()"
   ]
  },
  {
   "cell_type": "code",
   "execution_count": 21,
   "id": "b14b26eb-0572-405c-9c00-b489b4936ab7",
   "metadata": {},
   "outputs": [
    {
     "data": {
      "text/plain": [
       "user_id          0\n",
       "Location         0\n",
       "Age         110762\n",
       "dtype: int64"
      ]
     },
     "execution_count": 21,
     "metadata": {},
     "output_type": "execute_result"
    }
   ],
   "source": [
    "pd.isnull(users_df).sum()"
   ]
  },
  {
   "cell_type": "code",
   "execution_count": 22,
   "id": "3a05a4a5-bf55-4801-b3cd-ad47e15d609b",
   "metadata": {},
   "outputs": [],
   "source": [
    "ratings_df.dropna(inplace=True)\n",
    "users_df.dropna(inplace=True)\n",
    "books_df.dropna(inplace=True)"
   ]
  },
  {
   "cell_type": "code",
   "execution_count": 23,
   "id": "7d116f12-a946-4e1b-90d5-91aac0ff5af8",
   "metadata": {},
   "outputs": [],
   "source": [
    "# Merge ratings with users and books\n",
    "ratings_with_users = pd.merge(ratings_df, users_df, on='user_id')\n",
    "ratings_complete_info = pd.merge(ratings_with_users, books_df, on='book_id')\n"
   ]
  },
  {
   "cell_type": "code",
   "execution_count": 24,
   "id": "0583f916-90e1-4ebf-a5b2-ff55ad977819",
   "metadata": {},
   "outputs": [
    {
     "name": "stdout",
     "output_type": "stream",
     "text": [
      "   user_id     book_id  rating\n",
      "0   276725  034545104X       0\n",
      "1   276726  0155061224       5\n",
      "2   276727  0446520802       0\n",
      "3   276729  052165615X       3\n",
      "4   276729  0521795028       6\n",
      "    user_id                        Location   Age\n",
      "1         2       stockton, california, usa  18.0\n",
      "3         4       porto, v.n.gaia, portugal  17.0\n",
      "5         6   santa monica, california, usa  61.0\n",
      "9        10      albacete, wisconsin, spain  26.0\n",
      "10       11  melbourne, victoria, australia  14.0\n",
      "      book_id                                         Book-Title  \\\n",
      "0  0195153448                                Classical Mythology   \n",
      "1  0002005018                                       Clara Callan   \n",
      "2  0060973129                               Decision in Normandy   \n",
      "3  0374157065  Flu: The Story of the Great Influenza Pandemic...   \n",
      "4  0393045218                             The Mummies of Urumchi   \n",
      "\n",
      "            Book-Author Year-Of-Publication                   Publisher  \\\n",
      "0    Mark P. O. Morford                2002     Oxford University Press   \n",
      "1  Richard Bruce Wright                2001       HarperFlamingo Canada   \n",
      "2          Carlo D'Este                1991             HarperPerennial   \n",
      "3      Gina Bari Kolata                1999        Farrar Straus Giroux   \n",
      "4       E. J. W. Barber                1999  W. W. Norton &amp; Company   \n",
      "\n",
      "                                         Image-URL-S  \\\n",
      "0  http://images.amazon.com/images/P/0195153448.0...   \n",
      "1  http://images.amazon.com/images/P/0002005018.0...   \n",
      "2  http://images.amazon.com/images/P/0060973129.0...   \n",
      "3  http://images.amazon.com/images/P/0374157065.0...   \n",
      "4  http://images.amazon.com/images/P/0393045218.0...   \n",
      "\n",
      "                                         Image-URL-M  \\\n",
      "0  http://images.amazon.com/images/P/0195153448.0...   \n",
      "1  http://images.amazon.com/images/P/0002005018.0...   \n",
      "2  http://images.amazon.com/images/P/0060973129.0...   \n",
      "3  http://images.amazon.com/images/P/0374157065.0...   \n",
      "4  http://images.amazon.com/images/P/0393045218.0...   \n",
      "\n",
      "                                         Image-URL-L  \n",
      "0  http://images.amazon.com/images/P/0195153448.0...  \n",
      "1  http://images.amazon.com/images/P/0002005018.0...  \n",
      "2  http://images.amazon.com/images/P/0060973129.0...  \n",
      "3  http://images.amazon.com/images/P/0374157065.0...  \n",
      "4  http://images.amazon.com/images/P/0393045218.0...  \n"
     ]
    }
   ],
   "source": [
    "\n",
    "print(ratings_df.head())\n",
    "print(users_df.head())\n",
    "print(books_df.head())\n"
   ]
  },
  {
   "cell_type": "code",
   "execution_count": 25,
   "id": "c78107e9-7d60-4348-92e4-b1343842eaab",
   "metadata": {},
   "outputs": [],
   "source": [
    "\n",
    "ratings_df.columns = ratings_df.columns.str.strip()\n",
    "users_df.columns = users_df.columns.str.strip()\n",
    "books_df.columns = books_df.columns.str.strip()\n"
   ]
  },
  {
   "cell_type": "code",
   "execution_count": 26,
   "id": "28bd57c6-7d19-44eb-a8b2-762f435558f8",
   "metadata": {},
   "outputs": [
    {
     "name": "stdout",
     "output_type": "stream",
     "text": [
      "   user_id     book_id  rating                       Location   Age  \\\n",
      "0   276727  0446520802       0  h, new south wales, australia  16.0   \n",
      "1      638  0446520802       0     san diego, california, usa  20.0   \n",
      "2     3363  0446520802       0      knoxville, tennessee, usa  29.0   \n",
      "3     7158  0446520802      10           omaha, nebraska, usa  30.0   \n",
      "4     8253  0446520802      10           tulsa, oklahoma, usa  26.0   \n",
      "\n",
      "     Book-Title      Book-Author Year-Of-Publication     Publisher  \\\n",
      "0  The Notebook  Nicholas Sparks                1996  Warner Books   \n",
      "1  The Notebook  Nicholas Sparks                1996  Warner Books   \n",
      "2  The Notebook  Nicholas Sparks                1996  Warner Books   \n",
      "3  The Notebook  Nicholas Sparks                1996  Warner Books   \n",
      "4  The Notebook  Nicholas Sparks                1996  Warner Books   \n",
      "\n",
      "                                         Image-URL-S  \\\n",
      "0  http://images.amazon.com/images/P/0446520802.0...   \n",
      "1  http://images.amazon.com/images/P/0446520802.0...   \n",
      "2  http://images.amazon.com/images/P/0446520802.0...   \n",
      "3  http://images.amazon.com/images/P/0446520802.0...   \n",
      "4  http://images.amazon.com/images/P/0446520802.0...   \n",
      "\n",
      "                                         Image-URL-M  \\\n",
      "0  http://images.amazon.com/images/P/0446520802.0...   \n",
      "1  http://images.amazon.com/images/P/0446520802.0...   \n",
      "2  http://images.amazon.com/images/P/0446520802.0...   \n",
      "3  http://images.amazon.com/images/P/0446520802.0...   \n",
      "4  http://images.amazon.com/images/P/0446520802.0...   \n",
      "\n",
      "                                         Image-URL-L  \n",
      "0  http://images.amazon.com/images/P/0446520802.0...  \n",
      "1  http://images.amazon.com/images/P/0446520802.0...  \n",
      "2  http://images.amazon.com/images/P/0446520802.0...  \n",
      "3  http://images.amazon.com/images/P/0446520802.0...  \n",
      "4  http://images.amazon.com/images/P/0446520802.0...  \n",
      "<class 'pandas.core.frame.DataFrame'>\n",
      "RangeIndex: 753294 entries, 0 to 753293\n",
      "Data columns (total 12 columns):\n",
      " #   Column               Non-Null Count   Dtype  \n",
      "---  ------               --------------   -----  \n",
      " 0   user_id              753294 non-null  int64  \n",
      " 1   book_id              753294 non-null  object \n",
      " 2   rating               753294 non-null  int64  \n",
      " 3   Location             753294 non-null  object \n",
      " 4   Age                  753294 non-null  float64\n",
      " 5   Book-Title           753294 non-null  object \n",
      " 6   Book-Author          753294 non-null  object \n",
      " 7   Year-Of-Publication  753294 non-null  object \n",
      " 8   Publisher            753294 non-null  object \n",
      " 9   Image-URL-S          753294 non-null  object \n",
      " 10  Image-URL-M          753294 non-null  object \n",
      " 11  Image-URL-L          753294 non-null  object \n",
      "dtypes: float64(1), int64(2), object(9)\n",
      "memory usage: 69.0+ MB\n",
      "None\n",
      "             user_id         rating            Age\n",
      "count  753294.000000  753294.000000  753294.000000\n",
      "mean   141231.241019       2.768878      37.397669\n",
      "std     78828.625800       3.864221      14.098272\n",
      "min         2.000000       0.000000       0.000000\n",
      "25%     74453.000000       0.000000      28.000000\n",
      "50%    141493.000000       0.000000      35.000000\n",
      "75%    209156.000000       7.000000      45.000000\n",
      "max    278852.000000      10.000000     244.000000\n"
     ]
    }
   ],
   "source": [
    "print(ratings_complete_info.head())\n",
    "print(ratings_complete_info.info())\n",
    "print(ratings_complete_info.describe())\n"
   ]
  },
  {
   "cell_type": "code",
   "execution_count": 27,
   "id": "982785e6-1c89-42af-92a9-a6b47fe941b6",
   "metadata": {},
   "outputs": [
    {
     "name": "stdout",
     "output_type": "stream",
     "text": [
      "Unique users: 53887, Unique books: 228994\n"
     ]
    }
   ],
   "source": [
    "num_users = ratings_complete_info['user_id'].nunique()\n",
    "num_books = ratings_complete_info['book_id'].nunique()\n",
    "\n",
    "print(f\"Unique users: {num_users}, Unique books: {num_books}\")\n",
    "\n"
   ]
  },
  {
   "cell_type": "code",
   "execution_count": 28,
   "id": "3cce2848-e167-4754-91a0-2d9f7323fa56",
   "metadata": {},
   "outputs": [
    {
     "name": "stdout",
     "output_type": "stream",
     "text": [
      "user_id                  int64\n",
      "book_id                 object\n",
      "rating                   int64\n",
      "Location                object\n",
      "Age                    float64\n",
      "Book-Title              object\n",
      "Book-Author             object\n",
      "Year-Of-Publication     object\n",
      "Publisher               object\n",
      "Image-URL-S             object\n",
      "Image-URL-M             object\n",
      "Image-URL-L             object\n",
      "dtype: object\n"
     ]
    }
   ],
   "source": [
    "print(ratings_complete_info.dtypes)\n"
   ]
  },
  {
   "cell_type": "code",
   "execution_count": 29,
   "id": "786bd3e1-4ad2-49ec-9049-f3f0d609a30e",
   "metadata": {},
   "outputs": [
    {
     "name": "stdout",
     "output_type": "stream",
     "text": [
      "book_id  0002005018  0002251760  0002255081  0002257203  0002550563  \\\n",
      "user_id                                                               \n",
      "44              0.0         0.0         0.0         0.0         0.0   \n",
      "99              0.0         0.0         0.0         0.0         0.0   \n",
      "114             0.0         0.0         0.0         0.0         0.0   \n",
      "165             0.0         0.0         0.0         0.0         0.0   \n",
      "176             0.0         0.0         0.0         0.0         0.0   \n",
      "...             ...         ...         ...         ...         ...   \n",
      "278723          0.0         0.0         0.0         0.0         0.0   \n",
      "278774          0.0         0.0         0.0         0.0         0.0   \n",
      "278838          0.0         0.0         0.0         0.0         0.0   \n",
      "278843          0.0         0.0         0.0         0.0         0.0   \n",
      "278851          0.0         0.0         0.0         0.0         0.0   \n",
      "\n",
      "book_id  0002557029  0002558122  0003300277  0004701674  0006176909  ...  \\\n",
      "user_id                                                              ...   \n",
      "44              0.0         0.0         0.0         0.0         0.0  ...   \n",
      "99              0.0         0.0         0.0         0.0         0.0  ...   \n",
      "114             0.0         0.0         0.0         0.0         0.0  ...   \n",
      "165             0.0         0.0         0.0         0.0         0.0  ...   \n",
      "176             0.0         0.0         0.0         0.0         0.0  ...   \n",
      "...             ...         ...         ...         ...         ...  ...   \n",
      "278723          0.0         0.0         0.0         0.0         0.0  ...   \n",
      "278774          0.0         0.0         0.0         0.0         0.0  ...   \n",
      "278838          0.0         0.0         0.0         0.0         0.0  ...   \n",
      "278843          0.0         0.0         0.0         0.0         0.0  ...   \n",
      "278851          0.0         0.0         0.0         0.0         0.0  ...   \n",
      "\n",
      "book_id  9681500830  9681500954  9681501225  9722016563  9722111450  \\\n",
      "user_id                                                               \n",
      "44              0.0         0.0         0.0         0.0         0.0   \n",
      "99              0.0         0.0         0.0         0.0         0.0   \n",
      "114             0.0         0.0         0.0         0.0         0.0   \n",
      "165             0.0         0.0         0.0         0.0         0.0   \n",
      "176             0.0         0.0         0.0         0.0         0.0   \n",
      "...             ...         ...         ...         ...         ...   \n",
      "278723          0.0         0.0         0.0         0.0         0.0   \n",
      "278774          0.0         0.0         0.0         0.0         0.0   \n",
      "278838          0.0         0.0         0.0         0.0         0.0   \n",
      "278843          0.0         0.0         0.0         0.0         0.0   \n",
      "278851          0.0         0.0         0.0         0.0         0.0   \n",
      "\n",
      "book_id  9726101794  9871138016  9871138148  9879397274  B00009EF82  \n",
      "user_id                                                              \n",
      "44              0.0         0.0         0.0         0.0         0.0  \n",
      "99              0.0         0.0         0.0         0.0         0.0  \n",
      "114             0.0         0.0         0.0         0.0         0.0  \n",
      "165             0.0         0.0         0.0         0.0         0.0  \n",
      "176             0.0         0.0         0.0         0.0         0.0  \n",
      "...             ...         ...         ...         ...         ...  \n",
      "278723          0.0         0.0         0.0         0.0         0.0  \n",
      "278774          0.0         0.0         0.0         0.0         0.0  \n",
      "278838          0.0         0.0         0.0         0.0         0.0  \n",
      "278843          0.0         0.0         0.0         0.0         0.0  \n",
      "278851          0.0         0.0         0.0         0.0         0.0  \n",
      "\n",
      "[13633 rows x 27944 columns]\n"
     ]
    }
   ],
   "source": [
    "# Keep only users and books with at least 5 ratings\n",
    "filtered_ratings = ratings_complete_info.groupby('user_id').filter(lambda x: len(x) >= 5)\n",
    "filtered_ratings = filtered_ratings.groupby('book_id').filter(lambda x: len(x) >= 5)\n",
    "\n",
    "try:\n",
    "    ratings_matrix = filtered_ratings.pivot_table(index='user_id', columns='book_id', values='rating')\n",
    "    ratings_matrix = ratings_matrix.fillna(0)\n",
    "    print(ratings_matrix)\n",
    "except Exception as e:\n",
    "    print(\"An error occurred:\", e)\n",
    "\n"
   ]
  },
  {
   "cell_type": "code",
   "execution_count": 35,
   "id": "3d23c4a7-fcb4-4e6e-9b03-2af055d5ef9a",
   "metadata": {},
   "outputs": [],
   "source": [
    "books_df.drop(columns=['Year-Of-Publication'], inplace=True)"
   ]
  },
  {
   "cell_type": "code",
   "execution_count": 36,
   "id": "e21e7642-b983-44e7-bb79-008fac963988",
   "metadata": {},
   "outputs": [
    {
     "name": "stdout",
     "output_type": "stream",
     "text": [
      "Index(['book_id', 'Book-Title', 'Book-Author', 'Publisher', 'Image-URL-S',\n",
      "       'Image-URL-M', 'Image-URL-L'],\n",
      "      dtype='object')\n"
     ]
    }
   ],
   "source": [
    "print(books_df.columns)"
   ]
  },
  {
   "cell_type": "code",
   "execution_count": 37,
   "id": "453c8a8e-b78d-478f-bab4-06ee782b3dfc",
   "metadata": {},
   "outputs": [
    {
     "name": "stdout",
     "output_type": "stream",
     "text": [
      "(433671, 3)\n"
     ]
    }
   ],
   "source": [
    "ratings_df = ratings_df[ratings_df['rating'] != 0]\n",
    "print(ratings_df.shape)"
   ]
  },
  {
   "cell_type": "code",
   "execution_count": 38,
   "id": "f04fea90-7762-4f1e-ab2e-21796af93083",
   "metadata": {},
   "outputs": [],
   "source": [
    "books_df['book_id'] = books_df.groupby('Book-Title').ngroup() + 1"
   ]
  },
  {
   "cell_type": "code",
   "execution_count": 40,
   "id": "f1971f34-6c20-42e8-a9b7-cc4b75c54e1d",
   "metadata": {},
   "outputs": [
    {
     "name": "stdout",
     "output_type": "stream",
     "text": [
      "   book_id                                         Book-Title  \\\n",
      "0    36425                                Classical Mythology   \n",
      "1    36262                                       Clara Callan   \n",
      "2    47725                               Decision in Normandy   \n",
      "3    68606  Flu: The Story of the Great Influenza Pandemic...   \n",
      "4   199774                             The Mummies of Urumchi   \n",
      "\n",
      "            Book-Author  \n",
      "0    Mark P. O. Morford  \n",
      "1  Richard Bruce Wright  \n",
      "2          Carlo D'Este  \n",
      "3      Gina Bari Kolata  \n",
      "4       E. J. W. Barber  \n"
     ]
    }
   ],
   "source": [
    "print(books_df[['book_id' , 'Book-Title' , 'Book-Author']].head())"
   ]
  },
  {
   "cell_type": "code",
   "execution_count": 41,
   "id": "4f278279-3629-4edb-8249-3e351269613d",
   "metadata": {},
   "outputs": [
    {
     "name": "stdout",
     "output_type": "stream",
     "text": [
      "   user_id     book_id  rating\n",
      "1   276726  0155061224       5\n",
      "3   276729  052165615X       3\n",
      "4   276729  0521795028       6\n",
      "6   276736  3257224281       8\n",
      "7   276737  0600570967       6\n"
     ]
    }
   ],
   "source": [
    "print(ratings_df.head())"
   ]
  },
  {
   "cell_type": "code",
   "execution_count": 46,
   "id": "074d0564-7d31-46d8-93f9-2cadba911755",
   "metadata": {},
   "outputs": [],
   "source": [
    "bookRatings_count = ratings_complete_info.groupby('book_id').size()"
   ]
  },
  {
   "cell_type": "code",
   "execution_count": 47,
   "id": "dea464eb-128d-467a-ac34-88b3eef3d53b",
   "metadata": {},
   "outputs": [],
   "source": [
    "books_with_enough_ratings = bookRatings_count[bookRatings_count >= 10].index"
   ]
  },
  {
   "cell_type": "code",
   "execution_count": 48,
   "id": "f2c78384-ad19-4399-8e65-5c4ee4ca2781",
   "metadata": {},
   "outputs": [],
   "source": [
    "filtered_ratings = ratings_complete_info[ratings_complete_info['book_id'].isin(books_with_enough_ratings)]"
   ]
  },
  {
   "cell_type": "code",
   "execution_count": 49,
   "id": "53c9763b-78b6-4f6f-8438-473a68ada33a",
   "metadata": {},
   "outputs": [],
   "source": [
    "userRatings_count = filtered_ratings.groupby('user_id').size()\n",
    "users_with_enough_ratings = userRatings_count[userRatings_count >= 10].index\n",
    "filtered_ratings = filtered_ratings[filtered_ratings['user_id'].isin(users_with_enough_ratings)]"
   ]
  },
  {
   "cell_type": "code",
   "execution_count": 50,
   "id": "79f5ac66-c6ce-4cff-9825-32266bbf5838",
   "metadata": {},
   "outputs": [
    {
     "name": "stdout",
     "output_type": "stream",
     "text": [
      "book_id  0002251760  0002255081  0002558122  0006485200  000649840X  \\\n",
      "user_id                                                               \n",
      "254             0.0         0.0         0.0         0.0         0.0   \n",
      "388             0.0         0.0         0.0         0.0         0.0   \n",
      "424             0.0         0.0         0.0         0.0         0.0   \n",
      "503             0.0         0.0         0.0         0.0         0.0   \n",
      "638             0.0         0.0         0.0         0.0         0.0   \n",
      "...             ...         ...         ...         ...         ...   \n",
      "278221          0.0         0.0         0.0         0.0         0.0   \n",
      "278356          0.0         0.0         0.0         0.0         0.0   \n",
      "278390          0.0         0.0         0.0         0.0         0.0   \n",
      "278554          0.0         0.0         0.0         0.0         0.0   \n",
      "278843          0.0         0.0         0.0         0.0         0.0   \n",
      "\n",
      "book_id  0006512062  0006546684  0006547834  0006550576  0006550789  ...  \\\n",
      "user_id                                                              ...   \n",
      "254             0.0         0.0         0.0         0.0         0.0  ...   \n",
      "388             0.0         0.0         0.0         0.0         0.0  ...   \n",
      "424             0.0         0.0         0.0         0.0         0.0  ...   \n",
      "503             0.0         0.0         0.0         0.0         0.0  ...   \n",
      "638             0.0         0.0         0.0         0.0         0.0  ...   \n",
      "...             ...         ...         ...         ...         ...  ...   \n",
      "278221          0.0         0.0         0.0         0.0         0.0  ...   \n",
      "278356          0.0         0.0         0.0         0.0         0.0  ...   \n",
      "278390          0.0         0.0         0.0         0.0         0.0  ...   \n",
      "278554          0.0         0.0         0.0         0.0         0.0  ...   \n",
      "278843          0.0         0.0         0.0         0.0         0.0  ...   \n",
      "\n",
      "book_id  8845247414  884590184X  8845906884  8845915611  8885989403  \\\n",
      "user_id                                                               \n",
      "254             0.0         0.0         0.0         0.0         0.0   \n",
      "388             0.0         0.0         0.0         0.0         0.0   \n",
      "424             0.0         0.0         0.0         0.0         0.0   \n",
      "503             0.0         0.0         0.0         0.0         0.0   \n",
      "638             0.0         0.0         0.0         0.0         0.0   \n",
      "...             ...         ...         ...         ...         ...   \n",
      "278221          0.0         0.0         0.0         0.0         0.0   \n",
      "278356          0.0         0.0         0.0         0.0         0.0   \n",
      "278390          0.0         0.0         0.0         0.0         0.0   \n",
      "278554          0.0         0.0         0.0         0.0         0.0   \n",
      "278843          0.0         0.0         0.0         0.0         0.0   \n",
      "\n",
      "book_id  950491036X  9681336089  9681500830  9726101794  9871138016  \n",
      "user_id                                                              \n",
      "254             0.0         0.0         0.0         0.0         0.0  \n",
      "388             0.0         0.0         0.0         0.0         0.0  \n",
      "424             0.0         0.0         0.0         0.0         0.0  \n",
      "503             0.0         0.0         0.0         0.0         0.0  \n",
      "638             0.0         0.0         0.0         0.0         0.0  \n",
      "...             ...         ...         ...         ...         ...  \n",
      "278221          0.0         0.0         0.0         0.0         0.0  \n",
      "278356          0.0         0.0         0.0         0.0         0.0  \n",
      "278390          0.0         0.0         0.0         0.0         0.0  \n",
      "278554          0.0         0.0         0.0         0.0         0.0  \n",
      "278843          0.0         0.0         0.0         0.0         0.0  \n",
      "\n",
      "[4831 rows x 12211 columns]\n"
     ]
    }
   ],
   "source": [
    "try:\n",
    "    ratings_matrix = filtered_ratings.pivot_table(index='user_id', columns='book_id', values='rating')\n",
    "    ratings_matrix = ratings_matrix.fillna(0)\n",
    "    print(ratings_matrix)\n",
    "except Exception as e:\n",
    "    print(\"An error occurred:\", e)\n"
   ]
  },
  {
   "cell_type": "code",
   "execution_count": 51,
   "id": "7bb784cc-b46a-4f9b-be80-7e8fe195fcc7",
   "metadata": {},
   "outputs": [
    {
     "name": "stdout",
     "output_type": "stream",
     "text": [
      "   user_id     book_id  rating\n",
      "1      638  0446520802       0\n",
      "2     3363  0446520802       0\n",
      "3     7158  0446520802      10\n",
      "4     8253  0446520802      10\n",
      "7    23768  0446520802       6\n"
     ]
    }
   ],
   "source": [
    "print(filtered_ratings[['user_id', 'book_id', 'rating']].head())\n"
   ]
  },
  {
   "cell_type": "code",
   "execution_count": 52,
   "id": "c7147cf3-816c-4db5-9995-058cc2f7c0cd",
   "metadata": {},
   "outputs": [
    {
     "name": "stdout",
     "output_type": "stream",
     "text": [
      "[ 0 10  6  9  7  8  5  3  4  2  1]\n"
     ]
    }
   ],
   "source": [
    "print(filtered_ratings['rating'].unique())\n"
   ]
  },
  {
   "cell_type": "code",
   "execution_count": null,
   "id": "a569a600-194c-443f-bd7e-3d72ed03454b",
   "metadata": {},
   "outputs": [],
   "source": []
  }
 ],
 "metadata": {
  "kernelspec": {
   "display_name": "Python 3 (ipykernel)",
   "language": "python",
   "name": "python3"
  },
  "language_info": {
   "codemirror_mode": {
    "name": "ipython",
    "version": 3
   },
   "file_extension": ".py",
   "mimetype": "text/x-python",
   "name": "python",
   "nbconvert_exporter": "python",
   "pygments_lexer": "ipython3",
   "version": "3.12.4"
  }
 },
 "nbformat": 4,
 "nbformat_minor": 5
}
