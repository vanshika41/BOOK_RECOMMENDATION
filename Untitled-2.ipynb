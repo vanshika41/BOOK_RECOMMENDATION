{
 "cells": [
  {
   "cell_type": "code",
   "execution_count": 5,
   "metadata": {},
   "outputs": [
    {
     "name": "stdout",
     "output_type": "stream",
     "text": [
      "Empty DataFrame\n",
      "Columns: [Title of the Module]\n",
      "Index: []\n"
     ]
    }
   ],
   "source": [
    "import fitz  # PyMuPDF\n",
    "import re\n",
    "\n",
    "# Open the PDF file\n",
    "pdf_path = \"Course Description.pdf\"\n",
    "doc = fitz.open(pdf_path)\n",
    "\n",
    "# List to hold the extracted module titles\n",
    "module_titles = []\n",
    "\n",
    "# Regular expression pattern to identify the module titles\n",
    "title_pattern = re.compile(r'^\\d+\\.\\s+(.+)$')\n",
    "\n",
    "# Loop through each page and extract text\n",
    "for page_num in range(doc.page_count):\n",
    "    page = doc[page_num]\n",
    "    text = page.get_text(\"text\")\n",
    "    \n",
    "    # Split text by lines and search for module titles\n",
    "    for line in text.split('\\n'):\n",
    "        match = title_pattern.match(line)\n",
    "        if match:\n",
    "            # Extract and clean the title of the module\n",
    "            module_titles.append(match.group(1).strip())\n",
    "\n",
    "# Create a DataFrame to store the titles\n",
    "import pandas as pd\n",
    "ratings_df = pd.DataFrame(module_titles, columns=['Title of the Module'])\n",
    "\n",
    "# Display the DataFrame\n",
    "print(ratings_df)\n"
   ]
  },
  {
   "cell_type": "code",
   "execution_count": 1,
   "metadata": {},
   "outputs": [
    {
     "name": "stdout",
     "output_type": "stream",
     "text": [
      "Requirement already satisfied: pymupdf in /Library/Frameworks/Python.framework/Versions/3.11/lib/python3.11/site-packages (1.24.13)\n",
      "\n",
      "\u001b[1m[\u001b[0m\u001b[34;49mnotice\u001b[0m\u001b[1;39;49m]\u001b[0m\u001b[39;49m A new release of pip is available: \u001b[0m\u001b[31;49m23.3.1\u001b[0m\u001b[39;49m -> \u001b[0m\u001b[32;49m24.3.1\u001b[0m\n",
      "\u001b[1m[\u001b[0m\u001b[34;49mnotice\u001b[0m\u001b[1;39;49m]\u001b[0m\u001b[39;49m To update, run: \u001b[0m\u001b[32;49mpip3 install --upgrade pip\u001b[0m\n",
      "Note: you may need to restart the kernel to use updated packages.\n"
     ]
    }
   ],
   "source": [
    "pip install pymupdf\n"
   ]
  },
  {
   "cell_type": "code",
   "execution_count": null,
   "metadata": {},
   "outputs": [],
   "source": []
  }
 ],
 "metadata": {
  "kernelspec": {
   "display_name": "Python 3",
   "language": "python",
   "name": "python3"
  },
  "language_info": {
   "codemirror_mode": {
    "name": "ipython",
    "version": 3
   },
   "file_extension": ".py",
   "mimetype": "text/x-python",
   "name": "python",
   "nbconvert_exporter": "python",
   "pygments_lexer": "ipython3",
   "version": "3.13.0"
  }
 },
 "nbformat": 4,
 "nbformat_minor": 2
}
