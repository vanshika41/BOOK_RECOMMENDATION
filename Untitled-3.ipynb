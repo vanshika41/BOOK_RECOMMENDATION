{
 "cells": [
  {
   "cell_type": "code",
   "execution_count": 6,
   "metadata": {},
   "outputs": [
    {
     "name": "stdout",
     "output_type": "stream",
     "text": [
      "Collecting pytesseract\n",
      "  Downloading pytesseract-0.3.13-py3-none-any.whl.metadata (11 kB)\n",
      "Requirement already satisfied: pillow in /Library/Frameworks/Python.framework/Versions/3.11/lib/python3.11/site-packages (10.0.0)\n",
      "Requirement already satisfied: packaging>=21.3 in /Library/Frameworks/Python.framework/Versions/3.11/lib/python3.11/site-packages (from pytesseract) (23.1)\n",
      "Downloading pytesseract-0.3.13-py3-none-any.whl (14 kB)\n",
      "Installing collected packages: pytesseract\n",
      "Successfully installed pytesseract-0.3.13\n",
      "\n",
      "\u001b[1m[\u001b[0m\u001b[34;49mnotice\u001b[0m\u001b[1;39;49m]\u001b[0m\u001b[39;49m A new release of pip is available: \u001b[0m\u001b[31;49m23.3.1\u001b[0m\u001b[39;49m -> \u001b[0m\u001b[32;49m24.3.1\u001b[0m\n",
      "\u001b[1m[\u001b[0m\u001b[34;49mnotice\u001b[0m\u001b[1;39;49m]\u001b[0m\u001b[39;49m To update, run: \u001b[0m\u001b[32;49mpip3 install --upgrade pip\u001b[0m\n",
      "Note: you may need to restart the kernel to use updated packages.\n"
     ]
    }
   ],
   "source": [
    "pip install pytesseract pillow\n"
   ]
  },
  {
   "cell_type": "code",
   "execution_count": 8,
   "metadata": {},
   "outputs": [
    {
     "name": "stdout",
     "output_type": "stream",
     "text": [
      "Tnireduction to Theory of information reieval, Information retrieval on\n",
      "Dictionary and Wild cand queries, Spelling correction, Phonetic corection\n",
      "ink analysis ‘Web as graph and Page ranking algorithms ;\n",
      "Web Crawling Web Crawler architecture and Web crawling (parallel\n"
     ]
    }
   ],
   "source": [
    "import fitz  # PyMuPDF library\n",
    "from PIL import Image\n",
    "import pytesseract\n",
    "\n",
    "# Ensure pytesseract is set up correctly. You may need to specify the tesseract_cmd path if it's not in your PATH.\n",
    "# For example, on Windows: pytesseract.pytesseract.tesseract_cmd = r'C:\\Program Files\\Tesseract-OCR\\tesseract.exe'\n",
    "\n",
    "# Open the PDF file\n",
    "pdf_path = \"Course Description.pdf\"\n",
    "doc = fitz.open(pdf_path)\n",
    "\n",
    "# Initialize a list to store module titles\n",
    "module_titles = []\n",
    "\n",
    "# Define keywords to identify the beginning of the module titles section\n",
    "module_section_keywords = [\"Title of the Module\", \"Module\"]\n",
    "\n",
    "# Process each page in the PDF using OCR\n",
    "for page_num in range(doc.page_count):\n",
    "    page = doc[page_num]\n",
    "    \n",
    "    # Render the page to a pixmap (image)\n",
    "    pix = page.get_pixmap()\n",
    "    img = Image.frombytes(\"RGB\", [pix.width, pix.height], pix.samples)\n",
    "\n",
    "    # Use OCR to extract text from the image\n",
    "    text = pytesseract.image_to_string(img)\n",
    "    \n",
    "    # Flag to start extracting after finding the \"Title of the Module\" header\n",
    "    start_extracting = False\n",
    "    \n",
    "    # Process each line in the OCR-extracted text\n",
    "    for line in text.splitlines():\n",
    "        # Start extraction after identifying the \"Title of the Module\" section\n",
    "        if any(keyword in line for keyword in module_section_keywords):\n",
    "            start_extracting = True\n",
    "            continue\n",
    "\n",
    "        # Extract lines starting with a module number if we're in the correct section\n",
    "        if start_extracting:\n",
    "            parts = line.split()\n",
    "            if parts and parts[0].isdigit():  # Line starts with a number\n",
    "                module_title = \" \".join(parts[1:])\n",
    "                module_titles.append(module_title)\n",
    "\n",
    "# Display the extracted module titles\n",
    "for title in module_titles:\n",
    "    print(title)\n"
   ]
  }
 ],
 "metadata": {
  "kernelspec": {
   "display_name": "Python 3",
   "language": "python",
   "name": "python3"
  },
  "language_info": {
   "codemirror_mode": {
    "name": "ipython",
    "version": 3
   },
   "file_extension": ".py",
   "mimetype": "text/x-python",
   "name": "python",
   "nbconvert_exporter": "python",
   "pygments_lexer": "ipython3",
   "version": "3.13.0"
  }
 },
 "nbformat": 4,
 "nbformat_minor": 2
}
