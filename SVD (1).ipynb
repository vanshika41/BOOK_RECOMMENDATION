{
 "cells": [
  {
   "cell_type": "code",
   "execution_count": 2,
   "id": "33adf287-871c-45e4-a021-8b8e9514753f",
   "metadata": {},
   "outputs": [
    {
     "ename": "NameError",
     "evalue": "name 'data' is not defined",
     "output_type": "error",
     "traceback": [
      "\u001b[0;31m---------------------------------------------------------------------------\u001b[0m",
      "\u001b[0;31mNameError\u001b[0m                                 Traceback (most recent call last)",
      "Cell \u001b[0;32mIn[2], line 41\u001b[0m\n\u001b[1;32m     39\u001b[0m \u001b[38;5;66;03m# Example Usage:\u001b[39;00m\n\u001b[1;32m     40\u001b[0m title \u001b[38;5;241m=\u001b[39m \u001b[38;5;28minput\u001b[39m(\u001b[38;5;124m\"\u001b[39m\u001b[38;5;124mEnter the book title: \u001b[39m\u001b[38;5;124m\"\u001b[39m)\n\u001b[0;32m---> 41\u001b[0m recommended_books \u001b[38;5;241m=\u001b[39m recommend_books_by_title(title, \u001b[43mdata\u001b[49m, similarity_matrix)\n\u001b[1;32m     42\u001b[0m \u001b[38;5;28;01mif\u001b[39;00m \u001b[38;5;28misinstance\u001b[39m(recommended_books, \u001b[38;5;28mstr\u001b[39m):\n\u001b[1;32m     43\u001b[0m     \u001b[38;5;28mprint\u001b[39m(\u001b[38;5;124m\"\u001b[39m\u001b[38;5;124mError:\u001b[39m\u001b[38;5;124m\"\u001b[39m, recommended_books)\n",
      "\u001b[0;31mNameError\u001b[0m: name 'data' is not defined"
     ]
    }
   ],
   "source": [
    "from sklearn.feature_extraction.text import TfidfVectorizer\n",
    "from sklearn.decomposition import TruncatedSVD\n",
    "from sklearn.metrics.pairwise import cosine_similarity\n",
    "import pandas as pd\n",
    "\n",
    "# Step 1: Create a TF-IDF matrix based on content features\n",
    "def prepare_content_matrix(data):\n",
    "    vectorizer = TfidfVectorizer(stop_words='english')\n",
    "    content_matrix = vectorizer.fit_transform(data['combined_features'])  # Use 'combined' if it’s preferred\n",
    "    return content_matrix\n",
    "\n",
    "# Step 2: Apply SVD to reduce dimensionality and prepare similarity matrix\n",
    "def train_svd_on_content(content_matrix, n_components=50):\n",
    "    svd = TruncatedSVD(n_components=n_components)\n",
    "    svd_matrix = svd.fit_transform(content_matrix)\n",
    "    similarity_matrix = cosine_similarity(svd_matrix)\n",
    "    return similarity_matrix\n",
    "\n",
    "# Step 3: Recommend books based on a given book title\n",
    "# Updated function to handle partial and case-insensitive matching\n",
    "def recommend_books_by_title(title, data, similarity_matrix, n_similar=10):\n",
    "    # Find titles that contain the search term (case-insensitive)\n",
    "    matching_books = data[data['title'].str.contains(title, case=False, na=False)]\n",
    "    \n",
    "    if matching_books.empty:\n",
    "        return \"Book not found.\"\n",
    "\n",
    "    # Use the first matching book for recommendations\n",
    "    book_idx = matching_books.index[0]\n",
    "    \n",
    "    # Get similarity scores for the book\n",
    "    sim_scores = list(enumerate(similarity_matrix[book_idx]))\n",
    "    sim_scores = sorted(sim_scores, key=lambda x: x[1], reverse=True)\n",
    "    \n",
    "    # Recommend the top N similar books (excluding the input book)\n",
    "    similar_books = [data['title'].iloc[i[0]] for i in sim_scores[1:n_similar + 1]]\n",
    "    return similar_books\n",
    "\n",
    "# Example Usage:\n",
    "title = input(\"Enter the book title: \")\n",
    "recommended_books = recommend_books_by_title(title, data, similarity_matrix)\n",
    "if isinstance(recommended_books, str):\n",
    "    print(\"Error:\", recommended_books)\n",
    "else:\n",
    "    print(\"\\nTop Recommended Books based on SVD similarity:\")\n",
    "    print(recommended_books)\n"
   ]
  },
  {
   "cell_type": "code",
   "execution_count": null,
   "id": "5537df95-1532-41fa-8ada-66b5bc5e11b8",
   "metadata": {},
   "outputs": [],
   "source": []
  },
  {
   "cell_type": "code",
   "execution_count": null,
   "id": "246d3a89-32ee-47e2-8559-d2986507dd50",
   "metadata": {},
   "outputs": [],
   "source": []
  }
 ],
 "metadata": {
  "kernelspec": {
   "display_name": "Python 3",
   "language": "python",
   "name": "python3"
  },
  "language_info": {
   "codemirror_mode": {
    "name": "ipython",
    "version": 3
   },
   "file_extension": ".py",
   "mimetype": "text/x-python",
   "name": "python",
   "nbconvert_exporter": "python",
   "pygments_lexer": "ipython3",
   "version": "3.11.4"
  }
 },
 "nbformat": 4,
 "nbformat_minor": 5
}
