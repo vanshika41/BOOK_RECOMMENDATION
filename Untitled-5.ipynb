{
 "cells": [
  {
   "cell_type": "code",
   "execution_count": 2,
   "metadata": {},
   "outputs": [
    {
     "name": "stdout",
     "output_type": "stream",
     "text": [
      "Requirement already satisfied: opencv-python in /Users/shivamgarg/anaconda3/lib/python3.11/site-packages (4.10.0.84)\n",
      "Requirement already satisfied: pytesseract in /Users/shivamgarg/anaconda3/lib/python3.11/site-packages (0.3.13)\n",
      "Requirement already satisfied: pandas in /Users/shivamgarg/anaconda3/lib/python3.11/site-packages (1.5.3)\n",
      "Requirement already satisfied: numpy>=1.21.2 in /Users/shivamgarg/anaconda3/lib/python3.11/site-packages (from opencv-python) (1.24.3)\n",
      "Requirement already satisfied: packaging>=21.3 in /Users/shivamgarg/anaconda3/lib/python3.11/site-packages (from pytesseract) (23.0)\n",
      "Requirement already satisfied: Pillow>=8.0.0 in /Users/shivamgarg/anaconda3/lib/python3.11/site-packages (from pytesseract) (10.4.0)\n",
      "Requirement already satisfied: python-dateutil>=2.8.1 in /Users/shivamgarg/anaconda3/lib/python3.11/site-packages (from pandas) (2.8.2)\n",
      "Requirement already satisfied: pytz>=2020.1 in /Users/shivamgarg/anaconda3/lib/python3.11/site-packages (from pandas) (2022.7)\n",
      "Requirement already satisfied: six>=1.5 in /Users/shivamgarg/anaconda3/lib/python3.11/site-packages (from python-dateutil>=2.8.1->pandas) (1.16.0)\n"
     ]
    }
   ],
   "source": [
    "!pip install opencv-python pytesseract pandas\n",
    "import cv2\n",
    "import pytesseract\n",
    "import pandas as pd\n",
    "\n",
    "def image_to_csv(image_path):\n",
    "    # Read the image\n",
    "    img = cv2.imread(image_path)\n",
    "\n",
    "    # Convert to grayscale and apply thresholding\n",
    "    gray = cv2.cvtColor(img, cv2.COLOR_BGR2GRAY)\n",
    "    thresh = cv2.threshold(gray, 0, 255, cv2.THRESH_BINARY_INV + cv2.THRESH_OTSU)[1]\n",
    "\n",
    "    # Perform OCR   \n",
    "\n",
    "    text = pytesseract.image_to_string(thresh)\n",
    "\n",
    "    # Split text into lines and columns\n",
    "    lines = text.strip().split('\\n')\n",
    "    columns = lines[0].split()  # Assuming the first line contains column headers\n",
    "\n",
    "    # Create a list of rows\n",
    "    rows = []\n",
    "    for line in lines[1:]:\n",
    "        row = line.split()\n",
    "        rows.append(row)\n",
    "\n",
    "    # Create a DataFrame\n",
    "    df = pd.DataFrame(rows, columns=columns)\n",
    "\n",
    "    # Save to CSV\n",
    "    df.to_csv('output.csv', index=False)\n",
    "\n",
    "# Example usage\n",
    "image_path = 'image.png'\n",
    "image_to_csv(image_path)"
   ]
  }
 ],
 "metadata": {
  "kernelspec": {
   "display_name": "Python 3",
   "language": "python",
   "name": "python3"
  },
  "language_info": {
   "codemirror_mode": {
    "name": "ipython",
    "version": 3
   },
   "file_extension": ".py",
   "mimetype": "text/x-python",
   "name": "python",
   "nbconvert_exporter": "python",
   "pygments_lexer": "ipython3",
   "version": "3.13.0"
  }
 },
 "nbformat": 4,
 "nbformat_minor": 2
}
